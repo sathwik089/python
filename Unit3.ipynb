{
  "nbformat": 4,
  "nbformat_minor": 0,
  "metadata": {
    "colab": {
      "provenance": [],
      "authorship_tag": "ABX9TyNlFtk0cXT2k4WgEtXyVqWb",
      "include_colab_link": true
    },
    "kernelspec": {
      "name": "python3",
      "display_name": "Python 3"
    },
    "language_info": {
      "name": "python"
    }
  },
  "cells": [
    {
      "cell_type": "markdown",
      "metadata": {
        "id": "view-in-github",
        "colab_type": "text"
      },
      "source": [
        "<a href=\"https://colab.research.google.com/github/sathwik089/python/blob/main/Unit3.ipynb\" target=\"_parent\"><img src=\"https://colab.research.google.com/assets/colab-badge.svg\" alt=\"Open In Colab\"/></a>"
      ]
    },
    {
      "cell_type": "code",
      "source": [
        "import numpy as np\n",
        "\n",
        "array = np.array([1, 2, 3, 4, 5])\n",
        "if np.all(array):\n",
        "    print(\"None of the elements in the array is zero.\")\n",
        "else:\n",
        "    print(\"There is at least one zero element in the array.\")"
      ],
      "metadata": {
        "colab": {
          "base_uri": "https://localhost:8080/"
        },
        "id": "tHTKOmHzzbbn",
        "outputId": "7152498f-08f0-4ac7-da1c-874a120fd955"
      },
      "execution_count": 1,
      "outputs": [
        {
          "output_type": "stream",
          "name": "stdout",
          "text": [
            "None of the elements in the array is zero.\n"
          ]
        }
      ]
    },
    {
      "cell_type": "code",
      "execution_count": 2,
      "metadata": {
        "colab": {
          "base_uri": "https://localhost:8080/"
        },
        "id": "8rUajmr3zLC8",
        "outputId": "473bee83-3939-47b2-88e2-2c9b365f89d7"
      },
      "outputs": [
        {
          "output_type": "stream",
          "name": "stdout",
          "text": [
            "a > b: [False False  True False]\n",
            "a >= b: [False  True  True False]\n",
            "a < b: [ True False False  True]\n",
            "a <= b: [ True  True False  True]\n",
            "a == b: [False  True False False]\n",
            "a equal to b within tolerance: False\n"
          ]
        }
      ],
      "source": [
        "import numpy as np\n",
        "\n",
        "a = np.array([1, 5, 3, 9])\n",
        "b = np.array([2, 5, 1, 10])\n",
        "\n",
        "print(\"a > b:\", np.greater(a, b))\n",
        "print(\"a >= b:\", np.greater_equal(a, b))\n",
        "print(\"a < b:\", np.less(a, b))\n",
        "print(\"a <= b:\", np.less_equal(a, b))\n",
        "print(\"a == b:\", np.equal(a, b))\n",
        "print(\"a equal to b within tolerance:\", np.allclose(a, b))"
      ]
    },
    {
      "cell_type": "code",
      "source": [
        "import numpy as np\n",
        "arr = np.array([3, 7, 1, 9, 5, 3, 7, 1, 8])\n",
        "num = 5\n",
        "less_than_num = arr[arr < num]\n",
        "greater_than_num = arr[arr > num]\n",
        "print(\"Numbers less than\", num, \":\", less_than_num)\n",
        "print(\"Numbers greater than\", num, \":\", greater_than_num)"
      ],
      "metadata": {
        "colab": {
          "base_uri": "https://localhost:8080/"
        },
        "id": "cUQqoXLTzu5J",
        "outputId": "4df145db-4d7f-41fd-c25c-bebc8bf43e3b"
      },
      "execution_count": 3,
      "outputs": [
        {
          "output_type": "stream",
          "name": "stdout",
          "text": [
            "Numbers less than 5 : [3 1 3 1]\n",
            "Numbers greater than 5 : [7 9 7 8]\n"
          ]
        }
      ]
    },
    {
      "cell_type": "code",
      "source": [
        "import numpy as np\n",
        "# Define array\n",
        "arr = np.array([3, 7, 1, 9, 5, 3, 7, 1, 8])\n",
        "# Find indices of maximum and minimum numbers\n",
        "max_index = np.argmax(arr)\n",
        "min_index = np.argmin(arr)\n",
        "print(\"Index of maximum number:\", max_index)\n",
        "print(\"Index of minimum number:\", min_index)\n",
        "# Additional NumPy operations\n",
        "print(\"Maximum value:\", np.max(arr))\n",
        "print(\"Minimum value:\", np.min(arr))\n",
        "print(\"Unique elements:\", np.unique(arr))\n",
        "print(\"Bincount of elements:\", np.bincount(arr))\n",
        "print(\"Array representation using repr():\", repr(arr))"
      ],
      "metadata": {
        "colab": {
          "base_uri": "https://localhost:8080/"
        },
        "id": "rAjtUwAyz2cA",
        "outputId": "bd46c569-9dd5-4cb7-ce67-a96a17922e94"
      },
      "execution_count": 4,
      "outputs": [
        {
          "output_type": "stream",
          "name": "stdout",
          "text": [
            "Index of maximum number: 3\n",
            "Index of minimum number: 2\n",
            "Maximum value: 9\n",
            "Minimum value: 1\n",
            "Unique elements: [1 3 5 7 8 9]\n",
            "Bincount of elements: [0 2 0 2 0 1 0 2 1 1]\n",
            "Array representation using repr(): array([3, 7, 1, 9, 5, 3, 7, 1, 8])\n"
          ]
        }
      ]
    },
    {
      "cell_type": "markdown",
      "source": [],
      "metadata": {
        "id": "6BZu3jJfzs3L"
      }
    }
  ]
}